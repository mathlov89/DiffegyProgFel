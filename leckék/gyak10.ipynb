{
 "cells": [
  {
   "cell_type": "markdown",
   "metadata": {},
   "source": [
    "# SDE-ek és peremérték feladatok kapcsolata\n",
    "\n",
    "1944-ben Kakutani megmutatta, hogy a Laplace-egyenletre ($\\Delta u = 0$) vonatkozó peremérték problémák megoldásai kifejezhetők Brown-mozgás segítségével. Ebből aztán egy teljes elmélet nőtte ki magát, mely révén kapcsolat teremthető az Ito-féle diffúziós folyamatok és bizonyos másodrendű lineáris elliptikus és parabolikus differenciálegyenletek között és lehetőség nyílik az ilyen egyenletek hálófüggetlen véletlen közelítéseinek előállítására is (ez a módszer is az ún. Monte-Carlo módszercsalád tagja). \n",
    "\n",
    "Az elmélet alkalmas mind kezdetiérték mind pedig peremérték problémák kezelésére, de itt nincs lehetőségünk a részletekbe menő tárgyalásra, csupán receptet mutatunk és azt is csak egydimenziós peremérték feladatokra.\n",
    "\n",
    "Legyen $I=[a,b]$ és $L=A(x)\\frac{d^2}{dx^2}+B(x)\\frac{d}{dx}$ differenciáloperátor, ahol $A,B:I\\to\\mathbb{R}$ folytonos függvények, melyek közül $A$ kizárólag nemnegatív értékeket vesz fel. Keressük azokat a kétszer folytonosan differenciálható függvényeket, melyek kielégítik a\n",
    "$$\n",
    "L y = A(x)y''(x)+B(x)y'(x) = -g(x)\n",
    "$$\n",
    "differenciálegyenletet, ahol $g:I\\to\\mathbb{R}$ folytonos függvény, a megoldás pedig teljesíti az $y(a)=y_1$ és $y(b)=y_2$ peremfeltételeket ($|y_{1,2}|<\\infty$).\n",
    "\n",
    "Tekintsük továbbá a\n",
    "$$\n",
    "d X_t = B(X_t)dt+\\sqrt{2 A(X_t)} d B_t\n",
    "$$\n",
    "sztochasztikus differenciálegyenletet. Ekkor igaz az alábbi tétel.\n",
    "\n",
    "\\begin{theorem}\n",
    "Jelölje $\\tau_I$ az $I$ intervallumból történő első kilépés idejét, azaz $\\tau_I = \\inf \\{t\\ge 0\\mid X_t\\notin I\\}=\\min (\\tau_a,\\tau_b)$, ahol $\\tau_a$ és $\\tau_b$ a végpontok első elérési ideje. Amennyiben a peremérték feladat $y\\in C^2(I)$ korlátos megoldására teljesül, hogy\n",
    "$$\n",
    "\\lim_{t\\uparrow\\tau_I} y(X_t) = \\mathbf{1}_{\\tau_I<\\infty}\\left(y_1 \\mathbf{1}_{\\tau_a<\\tau_b}+y_2 \\mathbf{1}_{\\tau_a>\\tau_b}\\right)\\ \\  \\mathbb{P}_x-\\text{m.b.}\\ \\ \\forall x \n",
    "$$\n",
    "ahol $\\mathbb{P}_x-\\text{m.b.}$ azt jelenti, hogy az $X_0=x$ pontból induló $(X_t)_{t\\ge 0}$ diffúziós folyamatokra $1$-valószínűséggel igaz az állítás, akkor\n",
    "$$\n",
    "y(x) = \\mathbb{E}_x \\left[\\mathbf{1}_{\\tau_I<\\infty}\\left(y_1 \\mathbf{1}_{\\tau_a<\\tau_b}+y_2 \\mathbf{1}_{\\tau_a>\\tau_b}\\right)\\right] + \\mathbb{E}_x\\left[\\int_0^{\\tau_I}g(X_t)\\ d t\\right].\n",
    "$$\n",
    "\\end{theorem}\n",
    "\n",
    "\\begin{remark}\n",
    "A fenti tételnek két irányban is nagy jelentősége van:\n",
    "1. Monte-Carlo módszert tudunk tervezni a peremérték feladat megoldására;\n",
    "\n",
    "2. SDE-ek által leírt diffúziós folyamatokkal kapcsolatos kérdéseket másodrendű peremérték feladatokra vezethetjük vissza.\n",
    "\\end{remark}\n",
    "\n",
    "Az alábbiakban mindkét irányra mutatunk példát.\n",
    "\n",
    "\\begin{remark}\n",
    "A vektor-értékű diffúziós folyamatok és a parabolikus, illetve elliptikus másodrendű lineáris parciális differenciálegyenletekkel kapcsolatos kezdetiérték és peremérték problémák között ugyanilyen szép kapcsolat van.\n",
    "\\end{remark}\n",
    "\n",
    "\\begin{definition}\n",
    "Az $(X_t)_{t\\ge 0}$ diffúziós folyamathoz tartozó $L$ másodrendű differenciáloperátort a folyamat *infinitezimális generátorának* nevezik. Szokásos értelmezési tartománya pedig a legalább kétszer folytonosan differenciálható, kompakt tartójú függvények halmaza.\n",
    "\\end{definition}"
   ]
  },
  {
   "cell_type": "markdown",
   "metadata": {},
   "source": [
    "## BVP megoldása Monte--Carlo eljárással\n",
    "\n",
    "Vegyük a legegyszerűbb 1D hővezetési problémát $[0,1]$-on Dirichlet peremfeltétel mellett. Azaz legyen\n",
    "\\begin{align}\n",
    "y''(x) &=-2g(x)\\ \\ x\\in [0,1] \\\\\n",
    "y(0)&=y_0,\\ y(1)=y_1.\n",
    "\\end{align}\n",
    "\n",
    "Ennek analitikus megoldása:\n",
    "$$\n",
    "y(x) = y_0 + \\left(\n",
    "y_1-y_0+\\int_0^1 (1-s)2g(s) ds\n",
    "\\right)x-\\int_0^x (x-s)2g(s)ds.\n",
    "$$\n",
    "\n",
    "**Feladat:** Legyen $y_0=0.1$, $y_1=0.9$ és $g(x)=\\max (0.5-2|x-0.5|,0)$ egy háromszög függvénnyel leírt forrás sűrűség. Oldjuk meg a peremérték feladatot Monte-Carlo módszerrel ezen paraméterek mellett. A kapott $Y(x)$ véletlen megoldásból az $y(x)$ analitikusan előállított megoldást kivonva ábrázoljuk a hibát.\n",
    "\n",
    "**Segítség:**\n",
    "* Keressük meg az $y\\mapsto\\frac{1}{2}y''$ differenciáloperátornak megfelelő diffúziós folyamatot (SDE-et). Legyen ez $X_t$ (látni fogjuk, hogy ez most nagyon egyszerű).\n",
    "\n",
    "* Rögzített $X_0=x\\in [0,1]$ pontból kiindulva valamilyen lépésközzel (pl: $\\Delta t=0.01$) szimuláljunk jó sok (mondjuk 100) független (ez nagyon fontos) megoldást addig, míg azok el nem hagyják a $[0,1]$-ot. Így kapunk $X_n^1,X_n^2,\\ldots,X_n^{100}$ közelítő megoldásokat, melyek rendre $N_1,N_2,\\ldots, N_{100}$ lépés után hagyják el az intervallumot.\n",
    "\n",
    "* Az $X_n^k$ szimulált diffúzió esetén legyen\n",
    "$$\n",
    "Y_k(x) = y_0 \\mathbf{1} (X_{N_k}^k<0) + y_1 \\mathbf{1} (X_{N_k}^k>1)+\\Delta t\\sum_{n=1}^{N_k} g(X_n^k).\n",
    "$$\n",
    "\n",
    "* A véletlen scenáriókat átlagolva kapjuk a kívánt közelítést:\n",
    "$$\n",
    "Y(x) = \\frac{1}{100}\\sum_{k=1}^{100} Y_k(x).\n",
    "$$"
   ]
  },
  {
   "cell_type": "markdown",
   "metadata": {},
   "source": [
    "## Diffúziós folyamatokkal kapcsolatos kérdések visszavezetése BVP-ra\n",
    "\n",
    "Tegyük fel, hogy egy vállalat részvényét birtokoljuk, melynek ára geometriai Brown-mozgást (GBM) követ:\n",
    "$$\n",
    "dX_t = \\mu X_t dt + \\sigma X_t dB_t,\n",
    "$$\n",
    "ahol $\\mu=0.01$ és $\\sigma = 0.1$.\n",
    "\n",
    "A részvény ára jelenleg $X_0=1$. Tegyük fel, hogy a vállalatot csődeljárás alá vonják, ha $X_t<0.9$ lesz valamely $t$-re. Ebben az esetben értékesítik a vállalat eszközeit, kifizetik a hitelezőket és csak jóval ezek után kapjuk kézhez a pénzünket, ami azt jelenti, hogy legalább 10%-ot bukunk, de a gyakorlatban a veszteség ennél sokkal nagyobb lehet.\n",
    "\n",
    "Ambíciózus célunk, hogy 10%-ot keressünk úgy, hogy eladjuk a részvényt, ha annak árfolyama eléri az $X_1=1.1$ szintet. Feltételezzük, hogy infláció nincs és tudunk végtelen ideig várni.\n",
    "\n",
    "**Feladat:** Határozzuk meg annak a valószínűségét, hogy nyereséggel zárjuk a kereskedést.\n",
    "\n",
    "**Segítség:**\n",
    "\n",
    "* A fenti recept alapján keressük meg a GBM infinitezimális generátorát ($L$).\n",
    "\n",
    "* Tekintsük az $L y=0$, $y(0.9)=0$, $y(1.1)=1$ peremérték feladatot. Ennek megoldása a fenti tétel szerint\n",
    "$$\n",
    "y(x) = 0\\times \\mathbb{P}_x (\\tau_{0.9}<\\tau_{1.1})\n",
    "+\n",
    "1\\times \\mathbb{P}_x (\\tau_{0.9}>\\tau_{1.1}) = \\mathbb{P}_x (\\tau_{0.9}>\\tau_{1.1}).\n",
    "$$\n",
    "\n",
    "* Ezek alapján a keresett valószínűség $\\mathbb{P}_1 (\\tau_{0.9}>\\tau_{1.1})=y(1)$, vagyis elég a Python valamely beépített solverével a peremérték feladatot megoldani és a megoldást az $x=1$ pontban kiértékelni.\n",
    "\n",
    "* Hallgatólagosan feltettük, de precízen is belátható, hogy az $X_t$ folyamat tetszőleges $I\\subset (0,\\infty)$ intervallumból 1-valószínűséggel véges idő alatt kilép."
   ]
  },
  {
   "cell_type": "code",
   "execution_count": null,
   "metadata": {},
   "outputs": [],
   "source": []
  },
  {
   "cell_type": "markdown",
   "metadata": {},
   "source": [
    "# További olvasnivalók\n",
    "\n",
    "1. http://www.stat.ucla.edu/~ywu/research/documents/StochasticDifferentialEquations.pdf (Az alapmű :-D)\n",
    "2. https://drive.google.com/drive/folders/0B4-1PUjyOBqYLUl5Z2E1T1lJRGM?resourcekey=0-NLXjggg15HPQekB6k2j6bQ (Tóth Bálint Sztochasztikus diffegyenletek kurzusa)"
   ]
  },
  {
   "cell_type": "code",
   "execution_count": null,
   "metadata": {},
   "outputs": [],
   "source": []
  }
 ],
 "metadata": {
  "author": "",
  "kernelspec": {
   "display_name": "VPU",
   "language": "python",
   "name": "vpu"
  },
  "language_info": {
   "codemirror_mode": {
    "name": "ipython",
    "version": 3
   },
   "file_extension": ".py",
   "mimetype": "text/x-python",
   "name": "python",
   "nbconvert_exporter": "python",
   "pygments_lexer": "ipython3",
   "version": "3.7.3"
  },
  "latex_envs": {
   "LaTeX_envs_menu_present": true,
   "autoclose": false,
   "autocomplete": true,
   "bibliofile": "biblio.bib",
   "cite_by": "apalike",
   "current_citInitial": 1,
   "eqLabelWithNumbers": true,
   "eqNumInitial": 1,
   "hotkeys": {
    "equation": "Ctrl-E",
    "itemize": "Ctrl-I"
   },
   "labels_anchors": false,
   "latex_user_defs": false,
   "report_style_numbering": false,
   "user_envs_cfg": false
  },
  "nbTranslate": {
   "displayLangs": [
    "*"
   ],
   "hotkey": "alt-t",
   "langInMainMenu": true,
   "sourceLang": "en",
   "targetLang": "fr",
   "useGoogleTranslate": true
  },
  "toc": {
   "base_numbering": 1,
   "nav_menu": {},
   "number_sections": true,
   "sideBar": true,
   "skip_h1_title": false,
   "title_cell": "Table of Contents",
   "title_sidebar": "Contents",
   "toc_cell": false,
   "toc_position": {},
   "toc_section_display": true,
   "toc_window_display": false
  },
  "varInspector": {
   "cols": {
    "lenName": 16,
    "lenType": 16,
    "lenVar": 40
   },
   "kernels_config": {
    "python": {
     "delete_cmd_postfix": "",
     "delete_cmd_prefix": "del ",
     "library": "var_list.py",
     "varRefreshCmd": "print(var_dic_list())"
    },
    "r": {
     "delete_cmd_postfix": ") ",
     "delete_cmd_prefix": "rm(",
     "library": "var_list.r",
     "varRefreshCmd": "cat(var_dic_list()) "
    }
   },
   "types_to_exclude": [
    "module",
    "function",
    "builtin_function_or_method",
    "instance",
    "_Feature"
   ],
   "window_display": false
  }
 },
 "nbformat": 4,
 "nbformat_minor": 2
}
