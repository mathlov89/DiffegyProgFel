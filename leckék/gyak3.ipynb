{
 "cells": [
  {
   "cell_type": "markdown",
   "metadata": {},
   "source": [
    "# Szimplektikus integrátor\n",
    "\n",
    "\n",
    "**Tekintsünk egy matematikai ingát, azaz egy súlytalan rúdra függesztett testet, mely homogén gravitációs térben leng: ![Inga](./pendulum2.png).**\n",
    "\n",
    "* A példánkban az egyszerűség kedvéért a test tömege és a gravitációs gyorsulás egyaránt legyen egységnyi. \n",
    "\n",
    "* Ha $q$ jelöli az inga függőlegessel bezárt szögét, $p$ pedig a lendületét, akkor az inga mozgását a\n",
    "\\begin{align}\n",
    "\\dot{q} &= p\\\\\n",
    "\\dot{p} &= -\\sin (q)\n",
    "\\end{align}\n",
    "differenciálegyenlet rendszer írja le. \n",
    "\n",
    "* Ez a fizikai rendszer nem disszipatív, azaz mozgás során az összes energia állandó, a mozgás a $H(q,p)= \\frac{1}{2}p^2-\\cos (q)$ Hamilton függvény szintvonalain történik. \n",
    "\n",
    "* A numerikus megoldások -- a választott módszertől függően -- nem feltétlenül rendelkeznek ezzel a tulajdonsággal és hosszú időn keresztül futtatva fizikailag teljesen hibás megoldást adhatnak. Pontosan ezért a kaotikus Hamilton rendszerek hosszú idejű szimulációjánál az ún. *geometriai integrátorokat* részesítik előnyben. \n",
    "\n",
    "* Geometriai integrátor alatt olyan iteratív numerikus sémát értünk, mely a differenciálegyenlet fázisáramlásának valamely geometriai tulajdonságát megőrzi. A geometriai integrátorok fontos osztályát képezik a Hamilton rendszerekre kifejlesztett ún. *szimplektikus integrátorok*, melyek jellemzője, hogy az iteráció maga is ún. szimplektomorfizmus vagy más néven kanonikus transzformáció, ami a fázistérfogatot megőrzi (lásd: Liouville tétele).\n",
    "\n",
    "\n",
    "Vezessük be a $z = [q,p]^\\top$ és $f(z)=[p, -\\sin (q)]^\\top$ tömörebb jelöléseket, mellyel az inga mozgásegyenlete a\n",
    "$$\n",
    "\\dot{z} = f(z)\n",
    "$$\n",
    "alakba megy át és vizsgáljuk meg, hogy néhány, a numerikus módszerek tárgy keretében tanult egyszerűbb közönséges differenciálegyenlet megoldó algoritmus hogyan viselkedik. \n",
    "\n",
    "* Ehhez előre implementáltunk egy szimulációs függvényt, amely inputként a megoldó solvert kapja (Python függvény), futtatja a szimulációt és az eredményt megjeleníti."
   ]
  },
  {
   "cell_type": "code",
   "execution_count": 1,
   "metadata": {
    "ExecuteTime": {
     "end_time": "2022-03-30T13:43:28.416010Z",
     "start_time": "2022-03-30T13:43:28.104067Z"
    }
   },
   "outputs": [],
   "source": [
    "import autograd.numpy as np\n",
    "import matplotlib.pyplot as plt\n",
    "import matplotlib.animation as animation\n",
    "from IPython.display import display, clear_output\n",
    "\n",
    "def pendulum_simulation(solver):\n",
    "    \"\"\"\n",
    "    Inga szimuláció\n",
    "    \"\"\"\n",
    "    \n",
    "    h = 0.1  # lépésköz\n",
    "    \n",
    "    # A differenciálegyenlet jobb oldala\n",
    "    f = lambda z: np.array([z[1],-np.sin(z[0])])\n",
    "    \n",
    "    # Kezdeti feltételek (nyugalmi állapotából picit meglökjük)\n",
    "    z0 = np.array([0.0, 1.0])\n",
    "    \n",
    "    # A Hamilton függvény\n",
    "    H = lambda z: 0.5*z[1]**2.0-np.cos(z[0])\n",
    "    \n",
    "    dynamics = solver(f,h,z0)  # az iterátor, mely a következő időpontbeli értéket adja\n",
    "    \n",
    "    fig = plt.figure(figsize=plt.figaspect(1.0))    \n",
    "    ax1 = fig.add_subplot(111,autoscale_on=False, xlim=(-1.5, 1.5), ylim=(-1.5, 0.5))  # inga megjelenítéséhez\n",
    "    ax1.grid()\n",
    "    \n",
    "    line1, = ax1.plot([], [], 'o-', lw=2)\n",
    "    \n",
    "    def animate(i):\n",
    "        \n",
    "        z = next(dynamics)\n",
    "        x = [0.0, np.sin(z[0])]\n",
    "        y = [0.0, -np.cos(z[0])]\n",
    "        \n",
    "        line1.set_data(x, y)\n",
    "        print(\"Total energy: \" + str(H(z)))\n",
    "        \n",
    "        \n",
    "    for i in range(200):\n",
    "        animate(i)\n",
    "        clear_output(wait=True)\n",
    "        display(fig)\n",
    "\n",
    "    plt.show()"
   ]
  },
  {
   "cell_type": "markdown",
   "metadata": {},
   "source": [
    "# Szimplektikus Euler-módszer\n",
    "\n",
    "A szimplektikus Euler módszer a közönséges Euler sémához hasonlóan elsőrendű integrátor, ami azt jelenti, hogy az egylépéses hiba $O(h)$ nagyságrendű, ahol $h$ a lépésköz. Az implicit és explicit Euler sémákhoz képest viszont lényeges eltérés, hogy a szimulált mechanikai rendszer energiáját jó közelítéssel megőrzi.\n",
    "\n",
    "A szimplektikus Euler módszer iterációs lépése:\n",
    "$$\n",
    "z_{k+1} = z_k + h f(q_k,p_{k+1})\n",
    "$$\n",
    "\n",
    "Látható, hogy a séma a hely koordinátában explicit, az impulzus koordinátában pedig implicit, ezért szemi-implicit Euler módszernek is nevezik.\n",
    "\n",
    "Alább látható a szimplektikus Euler séma implementációja, melyet generátorok segítségével valósítottunk meg. Ennek mintájára kell majd leprogramozni az explicit és implicit Euler módszert, illetve a középponti módszert."
   ]
  },
  {
   "cell_type": "code",
   "execution_count": 2,
   "metadata": {
    "ExecuteTime": {
     "end_time": "2022-03-30T13:43:40.136399Z",
     "start_time": "2022-03-30T13:43:40.041018Z"
    }
   },
   "outputs": [],
   "source": [
    "import autograd.numpy as np\n",
    "from scipy.optimize import fsolve\n",
    "from autograd import jacobian\n",
    "\n",
    "def symplectic_Euler(f, h, z0):\n",
    "    \"\"\"\n",
    "    szimplektikus Euler-séma megoldó\n",
    "    \"\"\"\n",
    "    \n",
    "    z = z0\n",
    "    \n",
    "    while True:\n",
    "        \n",
    "        yield z\n",
    "        \n",
    "        # ez egy implicit séma, ezért egyenletet kell megoldani ahhoz, hogy z új értékét megkapjuk\n",
    "        F = lambda w: w-z-h*f(np.array([z[0], w[1]]))\n",
    "        dF = jacobian(F)\n",
    "        z = fsolve(F, z, fprime=dF)\n"
   ]
  },
  {
   "cell_type": "code",
   "execution_count": 3,
   "metadata": {
    "ExecuteTime": {
     "end_time": "2022-03-30T13:44:16.906427Z",
     "start_time": "2022-03-30T13:43:45.658958Z"
    }
   },
   "outputs": [
    {
     "data": {
      "image/png": "[encoded data removed]",
      "text/plain": [
       "<Figure size 288x288 with 1 Axes>"
      ]
     },
     "metadata": {},
     "output_type": "display_data"
    },
    {
     "data": {
      "image/png": "[encoded data removed]",
      "text/plain": [
       "<Figure size 288x288 with 1 Axes>"
      ]
     },
     "metadata": {
      "needs_background": "light"
     },
     "output_type": "display_data"
    }
   ],
   "source": [
    "# szimuláció    \n",
    "pendulum_simulation(symplectic_Euler)"
   ]
  },
  {
   "cell_type": "markdown",
   "metadata": {},
   "source": [
    "# Házi Feladatok"
   ]
  },
  {
   "cell_type": "markdown",
   "metadata": {},
   "source": [
    "## Explicit Euler-módszer\n",
    "\n",
    "Készítsük el az explicit Euler módszer implementációját a szimplektikus Euler módszer mintájára, futtassuk az inga szimulációt és értelmezzük a kapott eredményeket. A mechanikai energia hogyan változik az iteráció során?\n",
    "\n",
    "Iterációs lépés:\n",
    "$$\n",
    "z_{k+1} = z_k + h f(z_k)\n",
    "$$"
   ]
  },
  {
   "cell_type": "code",
   "execution_count": 5,
   "metadata": {
    "ExecuteTime": {
     "end_time": "2022-03-04T15:48:07.919843Z",
     "start_time": "2022-03-04T15:48:07.909764Z"
    }
   },
   "outputs": [],
   "source": [
    "import autograd.numpy as np\n",
    "\n",
    "def explicit_Euler(f, h, z0):\n",
    "    \"\"\"\n",
    "    Explicit Euler-séma megoldó\n",
    "    \"\"\"\n",
    "    \n",
    "    z = z0\n",
    "    \n",
    "    while True:\n",
    "        \n",
    "        yield z\n",
    "        \n",
    "        z = z + h*f(z)"
   ]
  },
  {
   "cell_type": "code",
   "execution_count": 6,
   "metadata": {
    "ExecuteTime": {
     "end_time": "2022-03-04T15:48:29.025270Z",
     "start_time": "2022-03-04T15:48:08.554937Z"
    }
   },
   "outputs": [
    {
     "data": {
      "image/png": "[encoded data removed]",
      "text/plain": [
       "<Figure size 288x288 with 1 Axes>"
      ]
     },
     "metadata": {},
     "output_type": "display_data"
    },
    {
     "data": {
      "image/png": "[encoded data removed]",
      "text/plain": [
       "<Figure size 288x288 with 1 Axes>"
      ]
     },
     "metadata": {
      "needs_background": "light"
     },
     "output_type": "display_data"
    }
   ],
   "source": [
    "# szimuláció    \n",
    "pendulum_simulation(explicit_Euler)  "
   ]
  },
  {
   "cell_type": "markdown",
   "metadata": {},
   "source": [
    "## Implicit Euler-módszer\n",
    "\n",
    "Készítsük el az implicit Euler módszer implementációját a szimplektikus Euler módszer mintájára, futtassuk az inga szimulációt és értelmezzük a kapott eredményeket. A mechanikai energia hogyan változik az iteráció során?\n",
    "\n",
    "Iterációs lépés:\n",
    "$$\n",
    "z_{k+1} = z_k + h f(z_{k+1})\n",
    "$$"
   ]
  },
  {
   "cell_type": "code",
   "execution_count": 63,
   "metadata": {
    "ExecuteTime": {
     "end_time": "2022-01-20T06:22:28.196496Z",
     "start_time": "2022-01-20T06:22:28.185986Z"
    }
   },
   "outputs": [],
   "source": [
    "import autograd.numpy as np\n",
    "\n",
    "def implicit_Euler(f, h, z0):\n",
    "    \"\"\"\n",
    "    Implicit Euler-séma megoldó\n",
    "    \"\"\"\n",
    "    \n",
    "    z = z0\n",
    "    \n",
    "    while True:\n",
    "        \n",
    "        yield z\n",
    "        \n",
    "        # ez egy implicit séma, ezért egyenletet kell megoldani ahhoz, hogy z új értékét megkapjuk\n",
    "        F = lambda w: w-z-h*f(w)\n",
    "        dF = jacobian(F)\n",
    "        z = fsolve(F, z, fprime=dF)\n",
    "    "
   ]
  },
  {
   "cell_type": "code",
   "execution_count": 64,
   "metadata": {
    "ExecuteTime": {
     "end_time": "2022-01-20T06:22:56.704244Z",
     "start_time": "2022-01-20T06:22:32.959347Z"
    }
   },
   "outputs": [
    {
     "data": {
      "image/png": "[encoded data removed]",
      "text/plain": [
       "<Figure size 480x480 with 1 Axes>"
      ]
     },
     "metadata": {},
     "output_type": "display_data"
    }
   ],
   "source": [
    "# szimuláció    \n",
    "pendulum_simulation(implicit_Euler)"
   ]
  },
  {
   "cell_type": "markdown",
   "metadata": {},
   "source": [
    "## Középponti módszer\n",
    "\n",
    "Készítsük el a középponti módszer implementációját a szimplektikus Euler módszer mintájára, futtassuk az inga szimulációt és értelmezzük a kapott eredményeket. A mechanikai energia hogyan változik az iteráció során?\n",
    "\n",
    "Iterációs lépés:\n",
    "$$\n",
    "z_{k+1} = z_k + h f\\left(\\frac{z_k+z_{k+1}}{2}\\right)\n",
    "$$"
   ]
  },
  {
   "cell_type": "code",
   "execution_count": 65,
   "metadata": {
    "ExecuteTime": {
     "end_time": "2022-01-20T06:23:39.448906Z",
     "start_time": "2022-01-20T06:23:39.437509Z"
    }
   },
   "outputs": [],
   "source": [
    "import autograd.numpy as np\n",
    "\n",
    "def midpoint_method(f, h, z0):\n",
    "    \"\"\"\n",
    "    Középponti módszer megoldó\n",
    "    \"\"\"\n",
    "    \n",
    "    z = z0\n",
    "    \n",
    "    while True:\n",
    "        \n",
    "        yield z\n",
    "        \n",
    "        # ez egy implicit séma, ezért egyenletet kell megoldani ahhoz, hogy z új értékét megkapjuk\n",
    "        F = lambda w: w-z-h*f(0.5*(w+z))\n",
    "        dF = jacobian(F)\n",
    "        z = fsolve(F, z, fprime=dF)\n"
   ]
  },
  {
   "cell_type": "code",
   "execution_count": 66,
   "metadata": {
    "ExecuteTime": {
     "end_time": "2022-01-20T06:24:09.649934Z",
     "start_time": "2022-01-20T06:23:44.995973Z"
    }
   },
   "outputs": [
    {
     "data": {
      "image/png": "[encoded data removed]",
      "text/plain": [
       "<Figure size 480x480 with 1 Axes>"
      ]
     },
     "metadata": {},
     "output_type": "display_data"
    }
   ],
   "source": [
    "# szimuláció    \n",
    "pendulum_simulation(midpoint_method)"
   ]
  },
  {
   "cell_type": "markdown",
   "metadata": {},
   "source": [
    "# További olvasnivalók\n",
    "\n",
    "1. https://en.wikipedia.org/wiki/Geometric_integrator (a példát innen vettem)\n",
    "\n",
    "2. https://en.wikipedia.org/wiki/Symplectic_integrator (hogyan konstruáljunk szimplektikus integrátorokat)\n",
    "\n",
    "3. http://www.mat.unimi.it/users/sansotte/pdf_files/hamsys/HaiLubWan-2006.pdf (egy jó tankönyv annak, aki szeretne \"szakértővé\" válni)\n",
    "\n",
    "4. https://en.wikipedia.org/wiki/Energy_drift (Energia drift: egy numerikus szimulációkat terhelő hibafajta)\n",
    "\n",
    "5. https://en.wikipedia.org/wiki/Flying_ice_cube (Repülő jégkocka :))\n",
    "\n",
    "6. https://python-course.eu/advanced-python/generators-iterators.php (generátorok és iterátorok Python-ban)"
   ]
  },
  {
   "cell_type": "code",
   "execution_count": null,
   "metadata": {},
   "outputs": [],
   "source": []
  }
 ],
 "metadata": {
  "kernelspec": {
   "display_name": "VPU",
   "language": "python",
   "name": "vpu"
  },
  "language_info": {
   "codemirror_mode": {
    "name": "ipython",
    "version": 3
   },
   "file_extension": ".py",
   "mimetype": "text/x-python",
   "name": "python",
   "nbconvert_exporter": "python",
   "pygments_lexer": "ipython3",
   "version": "3.7.3"
  },
  "latex_envs": {
   "LaTeX_envs_menu_present": true,
   "autoclose": false,
   "autocomplete": true,
   "bibliofile": "biblio.bib",
   "cite_by": "apalike",
   "current_citInitial": 1,
   "eqLabelWithNumbers": true,
   "eqNumInitial": 1,
   "hotkeys": {
    "equation": "Ctrl-E",
    "itemize": "Ctrl-I"
   },
   "labels_anchors": false,
   "latex_user_defs": false,
   "report_style_numbering": false,
   "user_envs_cfg": false
  },
  "nbTranslate": {
   "displayLangs": [
    "*"
   ],
   "hotkey": "alt-t",
   "langInMainMenu": true,
   "sourceLang": "en",
   "targetLang": "fr",
   "useGoogleTranslate": true
  },
  "toc": {
   "base_numbering": 1,
   "nav_menu": {},
   "number_sections": true,
   "sideBar": true,
   "skip_h1_title": false,
   "title_cell": "Table of Contents",
   "title_sidebar": "Contents",
   "toc_cell": false,
   "toc_position": {},
   "toc_section_display": true,
   "toc_window_display": false
  },
  "varInspector": {
   "cols": {
    "lenName": 16,
    "lenType": 16,
    "lenVar": 40
   },
   "kernels_config": {
    "python": {
     "delete_cmd_postfix": "",
     "delete_cmd_prefix": "del ",
     "library": "var_list.py",
     "varRefreshCmd": "print(var_dic_list())"
    },
    "r": {
     "delete_cmd_postfix": ") ",
     "delete_cmd_prefix": "rm(",
     "library": "var_list.r",
     "varRefreshCmd": "cat(var_dic_list()) "
    }
   },
   "types_to_exclude": [
    "module",
    "function",
    "builtin_function_or_method",
    "instance",
    "_Feature"
   ],
   "window_display": false
  }
 },
 "nbformat": 4,
 "nbformat_minor": 2
}
