{
 "cells": [
  {
   "cell_type": "markdown",
   "metadata": {},
   "source": [
    "# Sztochasztikus differenciálegyenletekkel kapcsolatos kezdetiérték feladatok\n",
    "\n",
    "Számos alkalmazási területen találkozhatunk zajjal terhelt dinamikai rendszerekkel. Gondolhatunk például egy gerjesztett RLC áramkörre, ahol főágban a pillanatnyi áramerősséget az\n",
    "$$\n",
    "LI''+RI'+\\frac{1}{C}I=F+\\text{zaj} \n",
    "$$\n",
    "differenciálegyenlet írja le, ahol $F$ a gerjesztést írja le, a zaj pedig lehet például fehérzaj, ami a Brown-mozgás klasszikus értelemben nem létező deriváltjának tekinthető (általánosított sztochasztikus folyamat). Ilyen és ehhez hasonló egyenletekkel a jeltovábbításban, pénzügyi matematikában, és sok más területen találkozhatunk. \n",
    "\n",
    "A zajjal terhelt dinamikai rendszerek adekvát matematikai modellje a sztochasztikus differenciálegyenlet. Az általánosított sztochasztikus folyamatokat nem használó felépítés Ito-féle integrálegyenletekre történő átírással történhet és ez magyarázza azt is, hogy az egyenletek felírásánál a \"törtmentes alak\" népszerűbb. Az elmélet precíz megalapozására a gyakorlat keretében nincs lehetőségünk, de az érdeklődő Olvasó az [1] jegyzetben minden szükséges információt megtalál ezzel kapcsolatban.\n",
    "\n",
    "**Az alábbiakban kimondjuk a sztochasztikus differenciálegyenletek erős megoldásaira vonatkozó egzisztencia és unicitás tételt és numerikus módszerket mutatunk ezen egyenletek közelítő megoldásainak az előállítására.**\n",
    "\n",
    "\\begin{theorem}[Egzisztencia és unicitás]\n",
    "Legyen $T>0$, $a:[0,T]\\times\\mathbb{R}^n\\to\\mathbb{R}^n$ és $b:[0,T]\\times\\mathbb{R}^n\\to\\mathbb{R}^m$ pedig mérhető függvények, melyekre valamely $C,D>0$ esetén teljesül, hogy\n",
    "$$\n",
    "|a(t,x)|+|b(t,x)|\\le C (1+|x|);\\ \\ \\ \\ x\\in\\mathbb{R}^n,\\ t\\in [0,T]\n",
    "$$\n",
    "(legfeljebb lineáris növekedés) és\n",
    "$$\n",
    "|a(t,x)-a(t,y)| + |b(t,x)-b(t,y)| \\le D |x-y|;\\ \\ \\ \\ x,y\\in\\mathbb{R}^n,\\ t\\in [0,T]\n",
    "$$\n",
    "(Lipschitz-folytonosság).\n",
    "\n",
    "Ekkor tetszőleges $X_0=x_0$ esetén a\n",
    "\\begin{align}\n",
    "d X_t &= a(t,X_t) dt + b(t,X_t)d B_t\\\\\n",
    "  X_0 &= x_0\n",
    "\\end{align}\n",
    "kezdetiérték feladatnak egyértelműen létezik $(X_t)_{t\\in [0,T]}$ megoldása, mely\n",
    "* $t$-ben $\\mathbb{P}$-m.b. folytonos pályájú;\n",
    "* adaptált a $(B_t)_{t\\ge 0}$ standard Brown-mozgás természetes filtrációjához;\n",
    "* továbbá $$\\mathbb{E}\\left(\\int_0^T |X_t|^2 dt\\right)<\\infty$$.\n",
    "\n",
    "\\end{theorem}\n",
    "\n",
    "A továbbiakban feltesszük, hogy a tekintett SDE-ek jobb oldala teljesíti a fenti (erős megoldásra vonatkozó) egzisztencia és unicitás tétel feltételeit. Ezen kívül csak skalár-értékű egyenletekkel kapcsolatos szimulációs feladatokat fogunk tekinteni.\n",
    "\n",
    "\\begin{remark}\n",
    "Az egzisztencia és unicitás tétel által garantált megoldások folytonos idejű (erős értelemben vett) Markov-folyamatok. Amennyiben az egyenlet autonóm (azaz az $a$ és $b$ együtthatófüggvények explicit módon nem függnek az időtől), az is igaz, hogy a kapott Markov-folyamat időben homogén.\n",
    "\\end{remark}"
   ]
  },
  {
   "cell_type": "code",
   "execution_count": null,
   "metadata": {},
   "outputs": [],
   "source": []
  },
  {
   "cell_type": "markdown",
   "metadata": {},
   "source": [
    "## Numerikus módszerek"
   ]
  },
  {
   "cell_type": "markdown",
   "metadata": {},
   "source": [
    "### Euler-Maruyama séma\n",
    "\n",
    "Az Euler-Maruyama séma a közönséges differenciálegyenletek numerikus módszereiből ismert Euler-séma sztochasztikus variánsa. Legyen a megoldandó SDE-hez tartozó kezdetiérték probléma\n",
    "\\begin{align}\n",
    "d X_t &= a(t,X_t)dt + b(t,X_t) d B_t\\\\\n",
    "X_0 &= x_0.\n",
    "\\end{align}\n",
    "\n",
    "Az Euler-Maruyama séma a fenti sztochasztikus differenciálegyenlet megoldását a $t_0= 0< t_1<t_2,\\ldots, <t_N=T$ osztópontokban a\n",
    "\\begin{align}\n",
    " Y_{t_{n+1}} &= Y_{t_{n}} + a(t_{n},Y_{t_{n}})(t_{n+1}-t_{n}) + b(t_{n},Y_{t_{n}}) \\sqrt{t_{n+1}-t_{n}}\\xi_{n+1}\\\\\n",
    "Y_0 &= x_0,\n",
    "\\end{align}\n",
    "Markov-lánccal közelíti, ahol $(\\xi_{n})_{n\\in\\mathbb{N}}$ független, standard normális eloszlású valószínűségi változók sorozata.\n",
    "\n",
    "\\begin{remark}\n",
    "A determinisztikus Euler módszerrel ellentétben az Euler-Maruyama sémát elterjedten használják SDE-ek megoldására. Ezen kívül elméleti jelentősége is van, mert számos SDE-ekkel kapcsolatos tétel bizonyításánál azt az utat követik, hogy az Euler-Maruyama közelítére látják be az állítást diszkrét idejű Markov-láncokra kifejlesztett technikákkal, majd a lépésköz csökkentésével \"átjátszák\" az eredeti SDE-re.\n",
    "\\end{remark}"
   ]
  },
  {
   "cell_type": "code",
   "execution_count": 1,
   "metadata": {
    "ExecuteTime": {
     "end_time": "2022-04-29T14:27:31.193859Z",
     "start_time": "2022-04-29T14:27:31.179247Z"
    }
   },
   "outputs": [],
   "source": [
    "import numpy as np\n",
    "\n",
    "def Euler_Maruyama(a, b, x0, tspan)->np.ndarray:\n",
    "    \"\"\"\n",
    "    a és b a (skalár értékű) együtthatófüggvények, x0 a kezdeti érték, \n",
    "    tspan pedig az osztópontok vektora, ami szig. mon. növő\n",
    "    \"\"\"\n",
    "    \n",
    "    N = tspan.size\n",
    "    X = np.zeros((N,))\n",
    "    \n",
    "    xi = np.random.normal(0.0, 1.0, N)\n",
    "    \n",
    "    X[0] = x0\n",
    "    for k in range(1,N):\n",
    "        X[k] = X[k-1] + a(tspan[k-1],X[k-1])*(tspan[k]-tspan[k-1]) + b(tspan[k-1],X[k-1])*np.sqrt(tspan[k]-tspan[k-1])*xi[k]\n",
    "        \n",
    "    return X"
   ]
  },
  {
   "cell_type": "markdown",
   "metadata": {},
   "source": [
    "Legyen $a,b\\in\\mathbb{R}$ tetszőleges. A $d X_t = \\frac{b-X_t}{1-t} dt + dB_t$; $0\\le t < 1$, $X_0=a$ kezdeti érték feladat megoldását Brown-hídnak nevezik. Azért híd, mert az $a$ és $b$ pontokat köti össze. A következő kódrészlet ezen megoldás egy realizációját közelíti a fenti Euler-Maruyama séma segítségével."
   ]
  },
  {
   "cell_type": "code",
   "execution_count": 8,
   "metadata": {
    "ExecuteTime": {
     "end_time": "2022-04-29T14:28:03.223716Z",
     "start_time": "2022-04-29T14:28:03.054461Z"
    }
   },
   "outputs": [
    {
     "data": {
      "text/plain": [
       "[<matplotlib.lines.Line2D at 0x7efc84289940>]"
      ]
     },
     "execution_count": 8,
     "metadata": {},
     "output_type": "execute_result"
    },
    {
     "data": {
      "image/png": "[encoded data removed]",
      "text/plain": [
       "<Figure size 432x288 with 1 Axes>"
      ]
     },
     "metadata": {
      "needs_background": "light"
     },
     "output_type": "display_data"
    }
   ],
   "source": [
    "import numpy as np\n",
    "import matplotlib.pyplot as plt\n",
    "\n",
    "a = 0.0\n",
    "b = 0.0\n",
    "\n",
    "A = lambda t, x: (b-x)/(1-t)\n",
    "B = lambda t, x: 1.0\n",
    "\n",
    "x0 = a\n",
    "N = 1000\n",
    "tspan = np.arange(0.0,1.0,1/N)\n",
    "\n",
    "X = Euler_Maruyama(A, B, x0, tspan)\n",
    "\n",
    "plt.plot(tspan, X)"
   ]
  },
  {
   "cell_type": "markdown",
   "metadata": {},
   "source": [
    "### Milstein módszer\n",
    "\n",
    "Az Euler-Maruyama sémánál kedvezőbb tulajdonságokkal rendelkezik a Milstein módszer (az ún. Erős konvergencia rendje $\\Delta t$, míg az Euler-Marayuma iterációé csak $\\sqrt{\\Delta t$}, de ezt itt nem részletezzük). Hátránya viszont, hogy csak autonóm egyenletek megoldására alkalmas.\n",
    "\n",
    "Az iterációs lépés:\n",
    "$$\n",
    "Y_{t_{n+1}} = Y_{t_{n}} + a(Y_{t_{n}})(t_{n+1}-t_{n}) + b(Y_{t_{n}}) \\sqrt{t_{n+1}-t_{n}}\\xi_{n+1}+\\frac{1}{2}b(Y_{t_{n}})^2 (t_{n+1}-t_{n})(\\xi_{n+1}^2-1)\n",
    "$$\n",
    "\n",
    "**Feladat:** Programozzuk le a Milstein módszert és próbáljuk ki egy tetszőleges SDE-en."
   ]
  },
  {
   "cell_type": "code",
   "execution_count": null,
   "metadata": {},
   "outputs": [],
   "source": []
  },
  {
   "cell_type": "markdown",
   "metadata": {},
   "source": [
    "### SDE Runge-Kutta módszer\n",
    "\n",
    "Hasonló tulajdonságai vannak a sztochasztikus Runge-Kutta módszernek, ahol az iterációs lépés:\n",
    "\\begin{align}\n",
    "Z_{t_{n}} &= Y_{t_{n}} + a(Y_{t_{n}})(t_{n+1}-t_{n})+b(Y_{t_{n}})\\sqrt{t_{n+1}-t_{n}}\\\\\n",
    "Y_{t_{n+1}} &= Y_{t_{n}} + a(Y_{t_{n}})(t_{n+1}-t_{n})+b(Y_{t_{n}})\\sqrt{t_{n+1}-t_{n}}\\xi_{n+1}+\\frac{1}{2}(b(Z_{t_{n}})-b(Y_{t_{n}}))(\\xi_{n+1}^2-1)\\sqrt{t_{n+1}-t_{n}}\n",
    "\\end{align}\n",
    "\n",
    "**Feladat:** Programozzuk le a sztochasztikus Runge-Kutta módszert és próbáljuk ki egy tetszőleges SDE-en."
   ]
  },
  {
   "cell_type": "code",
   "execution_count": null,
   "metadata": {},
   "outputs": [],
   "source": []
  },
  {
   "cell_type": "markdown",
   "metadata": {},
   "source": [
    "## Konkrét példák"
   ]
  },
  {
   "cell_type": "markdown",
   "metadata": {},
   "source": [
    "### Geometriai Brown-mozgás\n",
    "\n",
    "A pénzügyi matematika úttörői közé tartozó Bachelier 1900-ban “Théorie de la spéculation” című dolgozatában Brown-mozgással modellezte az opciók árát, ami nem realisztikus, hiszen a Brown-mozgás lehet negatív is, ami az árakról nem mondható el. Samuelson 1965-ben az ármozgások leírására geometriai Brown-mozgást javasolt, ami aztán mint egyfajta basic árfolyam modell számos területen felbukant (lásd pl: Black-Scholes modell).\n",
    "\n",
    "A geometriai Brown-mozgás a\n",
    "$$\n",
    "d X_t = \\mu X_t dt + \\sigma X_t dB_t\n",
    "$$\n",
    "SDE megoldásaként adódik, ahol $\\mu\\in\\mathbb{R}$ a globális trendnek felel meg, $\\sigma>0$ pedig a volatilitás, ami az árfolyam ingadozásának mértékét jellemzi.\n",
    "\n",
    "**Feladat:** Tetszőleges solvert használva oldjuk meg a fenti SDE-et."
   ]
  },
  {
   "cell_type": "code",
   "execution_count": null,
   "metadata": {},
   "outputs": [],
   "source": []
  },
  {
   "cell_type": "markdown",
   "metadata": {},
   "source": [
    "### Mean-reverting árfolyam modell\n",
    "\n",
    "A nyersanyag piacok (commodity markets) egyik sajátossága, hogy az árfolyam rövid időtávon (igen, ez szubjektív) egy középérték körül oszcillál. Ezt a viselkedést hívják mean-reversion-nek (magyar megfelelőt nem ismerek), és ezt a viselkedést mutatja az ún. mean-reverting Ornstein-Uhlenbeck folyamat, mely a\n",
    "$$\n",
    "d X_t = (m-X_t)dt+\\sigma dB_t\n",
    "$$\n",
    "sztochasztikus differenciálegyenlet megoldása, ahol $m,\\sigma>0$, $(B_t)_{t\\ge 0}$ pedig a standard Brown-mozgás.\n",
    "\n",
    "**Feladat:** Az $m$ és $\\sigma$ paraméterek tetszőleges megválasztása mellett szimuláljuk az $(X_t)_{t\\ge 0}$ folyamatot. A szimulációhoz bármelyik fenti numerikus sémát használhatjuk.\n",
    "\n",
    "**Feladat:** A vasérc árfolyama 10 éves időtávon is mean-reverting viselkedést mutat $m=145.5$ $/t középértékkel. ![Vasérc](./iron_ore.png) \n",
    "\n",
    "Tegyük fel, hogy az árfolyam a fenti egyenletet követi, a volatilitás pedig az egyszerűség kedvéért $\\sigma=1.0 \\frac{\\$}{\\sqrt{\\text{Day}}}$ legyen. Tegyük fel továbbá, hogy egy vasérc kitermelő vállalat döntéshozói vagyunk és kaptunk egy megkeresést egy acélműtől miszerint vásárolnának tőlünk vasércet 1 év múlva 155 $/t\n",
    "áron \n",
    "\n",
    "(ezt hívják határidős ügyletnek, más néven futures contract), a mai ár pedig $150.0$ $/t. Az ilyen megállapodások arra valók, hogy előre biztosítsák az acélmű nyersanyag ellátását. *A kérdés az, hogy várhatóan mekkora lesz a nyeresége/vesztesége a vasérc kitermelő vállalatnak ahhoz képest mintha a piacon értékesített volna?*\n",
    "\n",
    "A kérdés megválaszolásához az Euler--Maruyama diszkretizációt használva, 1 napos lépésközzel, $X_0 = 150.0$ $/t-ból kiindulva \n",
    "\n",
    "szimuláljunk 100 egymástól független scenáriót és nézzük meg, hogy kapott 100 db $X_{365}$ érték átlaga mennyivel nagyobb vagy kisebb a határidős árnál."
   ]
  },
  {
   "cell_type": "markdown",
   "metadata": {},
   "source": [
    "### Sztochasztikus populáció növekedési modell\n",
    "\n",
    "Egy populációban az egyedek szaporodóképességét az $r>0$, a terület eltartóképességét pedig a $K>0$ paraméter jellemzi. A populáció egyedszáma a\n",
    "$$\n",
    "dX_t = r X_t(K-X_t)dt+\\beta X_t dB_t\n",
    "$$\n",
    "egyenlet megoldása, ahol $X_0=x_0>0$ és a $\\beta>0$ paraméter a populáció egyedszámának ingadozását méri.\n",
    "\n",
    "**Feladat:** Tetszőleges solvert használva oldjuk meg a fenti egyenletet."
   ]
  },
  {
   "cell_type": "code",
   "execution_count": null,
   "metadata": {},
   "outputs": [],
   "source": []
  },
  {
   "cell_type": "markdown",
   "metadata": {},
   "source": [
    "# További olvasnivalók\n",
    "\n",
    "1. http://www.stat.ucla.edu/~ywu/research/documents/StochasticDifferentialEquations.pdf (Az alapmű :-D)\n",
    "2. https://drive.google.com/drive/folders/0B4-1PUjyOBqYLUl5Z2E1T1lJRGM?resourcekey=0-NLXjggg15HPQekB6k2j6bQ (Tóth Bálint Sztochasztikus diffegyenletek kurzusa)\n",
    "3. https://en.wikipedia.org/wiki/Euler%E2%80%93Maruyama_method\n",
    "4. https://en.wikipedia.org/wiki/Milstein_method\n",
    "5. https://en.wikipedia.org/wiki/Runge%E2%80%93Kutta_method_(SDE)\n",
    "6. https://www.mimuw.edu.pl/~apalczew/CFP_lecture5.pdf\n",
    "7. https://www.wias-berlin.de/people/bayerc/files/euler_talk_handout.pdf"
   ]
  },
  {
   "cell_type": "code",
   "execution_count": null,
   "metadata": {},
   "outputs": [],
   "source": []
  }
 ],
 "metadata": {
  "author": "",
  "kernelspec": {
   "display_name": "VPU",
   "language": "python",
   "name": "vpu"
  },
  "language_info": {
   "codemirror_mode": {
    "name": "ipython",
    "version": 3
   },
   "file_extension": ".py",
   "mimetype": "text/x-python",
   "name": "python",
   "nbconvert_exporter": "python",
   "pygments_lexer": "ipython3",
   "version": "3.7.3"
  },
  "latex_envs": {
   "LaTeX_envs_menu_present": true,
   "autoclose": false,
   "autocomplete": true,
   "bibliofile": "biblio.bib",
   "cite_by": "apalike",
   "current_citInitial": 1,
   "eqLabelWithNumbers": true,
   "eqNumInitial": 1,
   "hotkeys": {
    "equation": "Ctrl-E",
    "itemize": "Ctrl-I"
   },
   "labels_anchors": false,
   "latex_user_defs": false,
   "report_style_numbering": false,
   "user_envs_cfg": false
  },
  "nbTranslate": {
   "displayLangs": [
    "*"
   ],
   "hotkey": "alt-t",
   "langInMainMenu": true,
   "sourceLang": "en",
   "targetLang": "fr",
   "useGoogleTranslate": true
  },
  "toc": {
   "base_numbering": 1,
   "nav_menu": {},
   "number_sections": true,
   "sideBar": true,
   "skip_h1_title": false,
   "title_cell": "Table of Contents",
   "title_sidebar": "Contents",
   "toc_cell": false,
   "toc_position": {},
   "toc_section_display": true,
   "toc_window_display": false
  },
  "varInspector": {
   "cols": {
    "lenName": 16,
    "lenType": 16,
    "lenVar": 40
   },
   "kernels_config": {
    "python": {
     "delete_cmd_postfix": "",
     "delete_cmd_prefix": "del ",
     "library": "var_list.py",
     "varRefreshCmd": "print(var_dic_list())"
    },
    "r": {
     "delete_cmd_postfix": ") ",
     "delete_cmd_prefix": "rm(",
     "library": "var_list.r",
     "varRefreshCmd": "cat(var_dic_list()) "
    }
   },
   "types_to_exclude": [
    "module",
    "function",
    "builtin_function_or_method",
    "instance",
    "_Feature"
   ],
   "window_display": false
  }
 },
 "nbformat": 4,
 "nbformat_minor": 2
}
