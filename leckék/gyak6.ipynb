{
 "cells": [
  {
   "cell_type": "markdown",
   "metadata": {},
   "source": [
    "# Diszkrét dinamikai rendszerek és különös attraktorok\n",
    "\n",
    "Tegyük fel, hogy adott egy $f:\\mathbb{R}^n\\to\\mathbb{R}^n$ leképezés. Tetszőleges $x_0\\in\\mathbb{R}^n$ kezdőértéket választva tekinthetjük $f$ iteráltjainak egy $x_0, f(x_0), f(f(x_0)),\\ldots$ sorozatát, melynek tagjai általánosságban az\n",
    "$$\n",
    "x_{n+1} = f(x_n)\n",
    "$$\n",
    "rekurzióval adhatók meg.\n",
    "\n",
    "Amennyiben az $n\\in\\mathbb{N}$ paramétert időként interpretáljuk, szokás a fenti rekurziót (autonóm) *diszkrét dinamikai rendszernek* nevezni. Az $x_0, x_1, x_2,\\ldots$ sorozatot pedig a dinamikai $x_0\\in\\mathbb{R}^n$ kezdőértékhez tartozó *trajektóriájának* hívjuk.\n",
    "\n",
    "Vezessük be a $\\Phi:\\mathbb{N}\\times\\mathbb{R}^n\\to\\mathbb{R}^n$ *fázisfolyam leképezést* $\\Phi (n, x_0):=x_n$. A fázisfolyam leképezés lényegében az \"időléptetést\" írja le, és könnyen meggondolható, hogy teljesíti a\n",
    "$$\n",
    "\\Phi (n, \\Phi(m, x_0)) = \\Phi (n+m, x_0)\n",
    "$$\n",
    "félcsoport tulajdonságot.\n",
    "\n",
    "A különböző pontokból kiinduló trajektóriák hosszútávú viselkedését figyelve előfordulhat, hogy azok a kezdőérték választásától nagy mértékben függetlenül a fázistér egy $A\\subset\\mathbb{R}^n$ részhalmazába futnak be, az $A$-ból induló trajektóriák pedig egyáltalán nem hagyják el az $A$ halmazt. Az ilyen minimális invariáns határhalmazt *attraktor*-nak nevezzük. A szabatos definíció a következő:\n",
    "\\begin{definition}\n",
    "A fázistér egy $A\\subset\\mathbb{R}^n$ részhalmazát **attraktor**-nak nevezzük, ha\n",
    "* invariáns halmaz, azaz $f(A)\\subset A$ teljesül;\n",
    "* megadható az $A$ halmaznak egy olyan $B(A)$ környezete, melyre igaz, hogy $A$ tetszőleges $B'$ környezetét véve és tetszőéeges $x_0\\in B(A)$ kezdőértéket választva\n",
    "$$\n",
    "\\left|\\{x_n\\mid n\\in\\mathbb{N}\\}\\setminus B'\\right|<\\infty,\n",
    "$$\n",
    "azaz az $x_0$-ból induló trajektória előbb-utóbb $B'$-be ér és ott is marad örökre.\n",
    "* az $A$ halmaz minimális olyan értelemben, hogy nincs olyan nem üres, valódi részhalmaza $A$-nak, mely a fenti két tulajdonságot teljesíti.\n",
    "\\end{definition}\n",
    "\n",
    "Topológiailag szemlélve az attraktorok lehetnek fixpontok, vagy véges számú pont, melyet a fázisvektor időről időre bejár; folytonos időben határciklus (magasabb dimenzióban határtórusz), vagy (akár diszkrét esetben is) ún. *különös attraktor*, mely fraktál tulajdonságot mutat. "
   ]
  },
  {
   "cell_type": "markdown",
   "metadata": {},
   "source": [
    "## A Logisztikus leképezés\n",
    "\n",
    "A $\\mu\\in (0,1)$ paraméter tetszőleges rögzített értéke mellett az $f(x)=4\\mu x(1-x)$ hozzárendelés egy $f:(0,1)\\to (0,1)$ függvényt ad meg, melyet *logisztikus leképezésnek nevezünk*. A következőkben egy rögzített $x_0\\in (0,1)$ pontból kiindulva az $f$ függvény iteráltjainak, más szóval az \n",
    "$$x_{n+1} = f(x_n)$$ \n",
    "rekurzióval adott *diszkrét dinamikai rendszer*-nek a hosszútávú viselkedését tanulmányozzuk. \n",
    "\n",
    "Látni fogjuk, hogy a $\\mu$ paramétert akár csak kis mértékben változtatva, az attraktor halmaz drámaian megváltozik. Ezt a jelenséget *bifurkációnak* nevezzük. \n",
    "\n",
    "Elsőként a logisztikus leképezés bifurkációs diagrammját szimuláljuk, ahol a visszintes tengelyen $\\mu$ értéke szerepel, és a függőleges metszetek az egyes $\\mu$ értékekhez tartozó attraktorokat ábrázolják. "
   ]
  },
  {
   "cell_type": "code",
   "execution_count": 55,
   "metadata": {
    "ExecuteTime": {
     "end_time": "2023-01-20T11:02:39.387017Z",
     "start_time": "2023-01-20T11:02:39.367721Z"
    }
   },
   "outputs": [],
   "source": [
    "import numpy as np\n",
    "import matplotlib.pyplot as plt\n",
    "\n",
    "f = lambda x, mu: 4.0*mu*x*(1-x)  # a logisztikus leképezés\n",
    "\n",
    "def iterate(mu, x0):\n",
    "    \"\"\"\n",
    "    Ezzel a generátorral egy x0 pontból kiindulva, \n",
    "    tetszőleges mu értéket rögzítve tudunk iteráltakat számolni.\n",
    "    \"\"\"\n",
    "    \n",
    "    x = x0*np.ones_like(mu)\n",
    "    \n",
    "    while True:\n",
    "        yield x        \n",
    "        x = f(x, mu)\n",
    "                \n",
    "def trajectory(mu, x0, N):\n",
    "    \"\"\"\n",
    "    N hosszú trajektóriákat ad vissza.\n",
    "    \"\"\"\n",
    "    \n",
    "    x = iterate(mu, x0)\n",
    "    \n",
    "    return np.array([next(x) for k in range(N)])\n",
    "\n",
    "def BifurcationDiagram(x0, nTransient, nCycle, muArray, plot=True):\n",
    "    \"\"\"\n",
    "    Bifurkációs diagramm rajzolása:\n",
    "    muArray minden eleméhez számol egy trajektóriát úgy, hogy először\n",
    "    nTransient lépést tesz, amikor is elér egy ún. attraktort, majd\n",
    "    nCycle pontban kirajzolja az attraktort.\n",
    "    \"\"\"\n",
    "    \n",
    "    x = trajectory(muArray, x0, nTransient+nCycle)  # teljes trajektória\n",
    "    x = x[nTransient:] # a tranzienseket elhagyjuk\n",
    "    \n",
    "    if plot:\n",
    "        _, ax = plt.subplots(1, 1, figsize=(10, 10))\n",
    "        ax.plot(muArray, x.T,'k,')\n",
    "        \n",
    "    return x.T"
   ]
  },
  {
   "cell_type": "code",
   "execution_count": 61,
   "metadata": {
    "ExecuteTime": {
     "end_time": "2023-01-20T11:04:24.738549Z",
     "start_time": "2023-01-20T11:04:23.962883Z"
    }
   },
   "outputs": [
    {
     "data": {
      "image/png": "[encoded data removed]",
      "text/plain": [
       "<Figure size 720x720 with 1 Axes>"
      ]
     },
     "metadata": {
      "needs_background": "light"
     },
     "output_type": "display_data"
    }
   ],
   "source": [
    "x0 = 0.1\n",
    "nTransient = 500\n",
    "nCycle = 500\n",
    "\n",
    "# Teszteljük le az alábbi szcenáriókat.\n",
    "\n",
    "muArray = np.linspace(0., 1.0, 400)\n",
    "# muArray = np.linspace(0.85, 1.0, 400)  # ránagyítunk\n",
    "# muArray = np.linspace(0.96, 0.97, 400) # mégjobban kinagyítjuk\n",
    "\n",
    "# tapasztalat: az attraktor önhasonló\n",
    "\n",
    "BifurcationDiagram(x0, nTransient, nCycle, muArray);"
   ]
  },
  {
   "cell_type": "markdown",
   "metadata": {},
   "source": [
    "## Invariáns mérték\n",
    "\n",
    "Azt mondjuk, hogy egy $\\nu:\\mathcal{B}((0,1))\\to [0,1]$ valószínűségi Borel mérték invariáns az $f:(0,1)\\to (0,1)$ leképezésre nézve, ha\n",
    "$$\n",
    "(f_*\\nu) (A) = \\nu \\left(\\stackrel{-1}{f}(A)\\right) = \\nu (A)\n",
    "$$\n",
    "teljesül.\n",
    "\n",
    "**Feladat:** Ellenőrizzük, hogy a $\\nu (d x)=\\frac{1}{\\pi \\sqrt{x(1-x)}}dx$ invariáns az $f(x)=4x(1-x)$ logisztikus leképezésre nézve (A $\\nu$ mértéket arcsin-law-nak is nevezik. Valyon miért?).\n",
    "\n",
    "**Feladat:** Nem minden esetben van invariáns mérték. Tudunk olyat mondani, amikor nincs? Mi a helyzet, ha az attraktor véges sok pontból áll?\n",
    "\n",
    "**Feladat:** Gondoljuk meg, hogy a korábbi leckék során felbukkant Liouville-tétel fő állítása éppen az, hogy Hamilton rendszerekben maga a Lebesgue mérték az invariáns mérték.\n",
    "\n",
    "Az $f$ leképezés a $\\nu$ invariáns mértékkel egy $((0,1),\\mathcal{B}((0,1)),\\nu,f)$ dinamikai rendszert ad meg, melyet *ergodikusnak* mondunk, ha az invariáns halmazok valószínűsége csak $0$ vagy $1$ lehet.\n",
    "\n",
    "Az ergodikus leképezések fő motivációja Birkhoff ergod tétele, mely szerint ergodikus dinamikai rendszerekben teljesül, hogy\n",
    "$$\n",
    "\\frac{1}{n}\\sum_{k=0}^{n-1} \\phi (x_k)\\to \\int_{[0,1]}\\phi (x) \\nu\\, (d x),\\,\\,\\,\\,n\\to\\infty,\\,\\,\\phi\\in L_\\nu^1.\n",
    "$$\n",
    "\n",
    "Ebből azonnal kiolvasható, hogy az ergodikus rendszer az összes idejének akkora hányadát tölti egy halmazban, amekkora a halmaz invariáns valószínűség szerinti mértéke. A statisztikus fizikusok ezt többnyire úgy mondják, hogy az \"időátlag\" és a \"térátlag\" megegyezik.\n",
    "\n",
    "**Feladat:** Látunk hasonlóságot a nagy számok erős törvényével? Ha igen, akkor magyarázzuk is meg!\n",
    "\n",
    "Bár a kutatók gyakran hangoztatják, hogy a tudomány reprodukálható jelenségekkel foglalkozik, számos jelenség egyszerűen természeténél fogva nem reprodukálható. Próbálta már valaki a világegyetem keletkezését reprodukálni?! Az ergodikus rendszerek gyakorlati jelentőségét éppen az adja, hogy egyetlen idősor megfigyeléséből következtetéseket tudunk levonni a rendszer átlagos viselkedésével kapcsolatban."
   ]
  },
  {
   "cell_type": "code",
   "execution_count": 180,
   "metadata": {
    "ExecuteTime": {
     "end_time": "2023-01-20T19:16:08.106845Z",
     "start_time": "2023-01-20T19:16:08.095391Z"
    }
   },
   "outputs": [],
   "source": [
    "def density_histogram(sample: np.array, nbins: int):\n",
    "    \"\"\"\n",
    "    A sample vektor sűrűséghisztogramját állítja elő a [0,1] intervallumon.\n",
    "    Sajnos a numpy verzió BUG-os, ezért saját kellett.\n",
    "    \"\"\"\n",
    "    \n",
    "    hist = np.array([np.sum((k/nbins<=sample) & (sample<(k+1)/nbins)) for k in range(nbins)])\n",
    "    hist = nbins*hist/sample.size\n",
    "    \n",
    "    return hist\n",
    "\n",
    "def empirical_density(mu: float, n: int):\n",
    "    \"\"\"\n",
    "    Az invariáns mérték sűrűség hisztogramjának becslése. \n",
    "    \"\"\"\n",
    "    \n",
    "    x0 = 0.1  # mindegy honnan indítjuk\n",
    "    nTransient = 500    # először ennyit iterálunk, hogy biztosan elérjük az attraktort\n",
    "    nPoints = int(n**3) # ennyi mintát veszünk az attraktorból\n",
    "    \n",
    "    x = iterate(mu, x0)\n",
    "    \n",
    "    for i in range(nTransient):\n",
    "        next(x);\n",
    "        \n",
    "    sample = np.array([next(x) for j in range(nPoints)])\n",
    "\n",
    "    density = density_histogram(sample, nbins=n)\n",
    "    \n",
    "    # density, _ = np.histogram(sample, bins=n, density=True)  # sajnos a numpy beépített histogram függvénye BUG-os\n",
    "    \n",
    "    return density"
   ]
  },
  {
   "cell_type": "code",
   "execution_count": 179,
   "metadata": {
    "ExecuteTime": {
     "end_time": "2023-01-20T19:15:42.321840Z",
     "start_time": "2023-01-20T19:15:42.030957Z"
    }
   },
   "outputs": [
    {
     "data": {
      "text/plain": [
       "[<matplotlib.lines.Line2D at 0x7f625c36bbe0>]"
      ]
     },
     "execution_count": 179,
     "metadata": {},
     "output_type": "execute_result"
    },
    {
     "data": {
      "image/png": "[encoded data removed]",
      "text/plain": [
       "<Figure size 720x720 with 1 Axes>"
      ]
     },
     "metadata": {
      "needs_background": "light"
     },
     "output_type": "display_data"
    }
   ],
   "source": [
    "import matplotlib.pyplot as plt\n",
    "\n",
    "n = 50\n",
    "\n",
    "# Próbáljuk ki az alábbi beállításokat!\n",
    "# mu = 0.8  # az attraktor egy periodikus pálya\n",
    "# mu = 0.9  # itt különös attraktorral van dolgunk, mely két diszjunkt intervallumot tölt ki\n",
    "mu = 1.0    # a különös attraktor az egész [0,1]-ot kitölti, a rendszer ergodikus\n",
    "\n",
    "# mu = 0.892486418  # Feigenbaum attraktor: különös, önhasonló, dimenziója 0 és 1 közötti (lásd következő pont)\n",
    "\n",
    "t = np.linspace(0.0, 1.0, n) + 0.5/n\n",
    "\n",
    "law = lambda t: 1.0/(np.pi*np.sqrt(np.abs(t*(1-t))))  # arcsin törvény\n",
    "density = empirical_density(mu, n)  # empirikus sűrűség\n",
    "\n",
    "_, ax = plt.subplots(1, 1, figsize=(10, 10))\n",
    "\n",
    "ax.plot(t, density)\n",
    "ax.plot(t, law(t))"
   ]
  },
  {
   "cell_type": "markdown",
   "metadata": {},
   "source": [
    "## Fraktál dimenzió-k számítása különös attraktorokra\n",
    "\n",
    "### Kapacitás dimenzió\n",
    "\n",
    "Legyen $A\\subset \\mathbb{R}^d$ egy tetszőleges halmaz. Tegyük fel, hogy az $A$ halmazt $\\varepsilon$ élhosszúságú zárt kockákkal fedtük be, és a fedéshez $N$ kockát használtunk fel. Ha az $A$ halmaz $V(A)$ térfogata valahogyan értelmezhető, akkor biztosan igaz, hogy legalább\n",
    "$$\n",
    "N\\ge V/\\varepsilon^d\n",
    "$$\n",
    "kockát kellett használnunk. Mindkét oldal logaritmusát véve (kicsit nem precíz módon) kapjuk, hogy\n",
    "$$\n",
    "\\log N \\approx \\log V -d\\log\\varepsilon.\n",
    "$$\n",
    "\n",
    "Ez az összefüggés motiválja a kapacitás dimenzió (Minkowski-Bouligand dimenzió) fogalmát:\n",
    "$$\n",
    "D_{cap} = -\\lim_{\\varepsilon\\to 0}\\frac{\\log N}{\\log \\varepsilon}.\n",
    "$$\n",
    "\n",
    "Ezt közvetlenül tudjuk számolni a sűrűség hisztogramból, ahol $N$ a nem üres cellák számát jelöli, és $\\varepsilon$ egy cella élhosszúsága. \n",
    "\n",
    "### Információs dimenzió \n",
    "\n",
    "Ezt a dimenzió fogalamat Rényi Alfréd vezette be 1959-ben véletlen vektorok (pontfelhők) dimenziójának a mérésére. A kapacitás dimenzióval ellentétben az egyes cellákat a \"meglepetés értékükkel\" súlyozza:\n",
    "$$\n",
    "D_{inf} = \\lim_{\\varepsilon\\to 0}\\frac{\\sum P_j\\log P_j}{\\log \\varepsilon}.\n",
    "$$\n",
    "\n",
    "Az alábbiakban a $\\mu$ bifurkációs paraméter függvényében kiszámítjuk az attraktor kapacitás és információs dimenzióját."
   ]
  },
  {
   "cell_type": "code",
   "execution_count": 190,
   "metadata": {
    "ExecuteTime": {
     "end_time": "2023-01-20T19:23:32.944293Z",
     "start_time": "2023-01-20T19:23:32.936901Z"
    }
   },
   "outputs": [],
   "source": [
    "log = lambda x: np.ma.log(x).filled(0.0)  # log (0)-t 0-nak definiáljuk (információelméletben bevett trükk)\n",
    "\n",
    "def cap_dim(mu: float):\n",
    "    \"\"\"\n",
    "    Kapacitás dimenzió\n",
    "    \"\"\"\n",
    "    \n",
    "    n = 50\n",
    "    \n",
    "    h = empirical_density(mu, n)\n",
    "    \n",
    "    # calculate number of non-empty cells\n",
    "    N = np.sum(h>0.0)\n",
    "    \n",
    "    Dcap = np.log(N)/np.log(n)\n",
    "    \n",
    "    return Dcap\n",
    "    \n",
    "def inf_dim(mu: float):\n",
    "    \"\"\"\n",
    "    Információs dimenzió\n",
    "    \"\"\"\n",
    "    \n",
    "    n = 50\n",
    "    \n",
    "    # valószínűségi súlyfüggvények\n",
    "    P = empirical_density(mu, n)/n\n",
    "    \n",
    "    # információk\n",
    "    I = np.sum(P*log(P))\n",
    "    \n",
    "    Dinf = - I/np.log(n)\n",
    "    \n",
    "    return Dinf "
   ]
  },
  {
   "cell_type": "code",
   "execution_count": 192,
   "metadata": {
    "ExecuteTime": {
     "end_time": "2023-01-20T19:24:26.373557Z",
     "start_time": "2023-01-20T19:24:01.598405Z"
    }
   },
   "outputs": [
    {
     "data": {
      "text/plain": [
       "[<matplotlib.lines.Line2D at 0x7f625d483940>]"
      ]
     },
     "execution_count": 192,
     "metadata": {},
     "output_type": "execute_result"
    },
    {
     "data": {
      "image/png": "[encoded data removed]",
      "text/plain": [
       "<Figure size 720x720 with 1 Axes>"
      ]
     },
     "metadata": {
      "needs_background": "light"
     },
     "output_type": "display_data"
    }
   ],
   "source": [
    "mu = np.linspace(0.0, 1.0, 100)\n",
    "\n",
    "Dcap = np.array([cap_dim(y) for y in mu])\n",
    "Dinf = np.array([inf_dim(y) for y in mu])\n",
    "\n",
    "_, ax = plt.subplots(1, 1, figsize=(10, 10))\n",
    "\n",
    "ax.plot(mu, Dcap)\n",
    "ax.plot(mu, Dinf)\n",
    "\n",
    "# mu-->1 átmenetben 1-hez tart"
   ]
  },
  {
   "cell_type": "markdown",
   "metadata": {},
   "source": [
    "## Feladat: Lyapunov-exponens\n",
    "\n",
    "A logisztikus dinamikai rendszer nem csak különös attraktorairól híres, hanem kaotikus viselkedéséről is (lásd pillangóhatás). Ez alatt azt értjük, hogy egymáshoz nagyon közeli kezdeti értékekből indított trajektóriák rendkívül gyorsan távolodnak egymástól. Ezt hívjuk kaotikus viselkedésnek. Tehát noha elméletben a rendszer determinisztikus, nem tudjuk a távoli jövőjét tetszőleges pontossággal kiszámítani már csak a kezdeti érték numerikus számábrázolás okozta bizonytalansága miatt sem.\n",
    "\n",
    "A Lyapunov-exponens a trajektóriák távolodási sebességét méri. Folytonos dinamikai rendszerek esetén ha $|\\delta x(t)|$ méri két trajektória távolságát a $t$ időpontban, akkor durván szólva igaz, hogy létezik olyan $\\lambda>0$ szám, melyre\n",
    "$$\n",
    "|\\delta x(t)|\\approx e^{\\lambda t}|\\delta x(0)|,\n",
    "$$\n",
    "azaz a trajektóriák exponenciális sebességgel távolodnak és a Lyapunov-exponens nem más mint a kitevőben lévő $\\lambda$ faktor. Természetesen nem mindegy, hogy a két kezdeti érték milyen irányban tér el egymástól. A kezdeti értékek közti függvényében kapható maximális $\\lambda$ rátát maximális Lyapunov exponensnek nevezzük.\n",
    "\n",
    "Ennek jelentősége az, hogy két kezdeti érték tipikusan olyan irányban tér el egymástól, mely tartalmaz a maximális Lyapunov-exponenshez tartozó komponenst, így hosszú idő után a legnagyobb kitevőjű exponenciális növekedés válik dominánssá.\n",
    "\n",
    "Szerencsére diszkrét dinamikai rendszerekre a maximális Lyapunov-exponenst könnyű kiszámítani:\n",
    "$$\n",
    "\\lambda (x_0)=\\lim_{n\\to\\infty}\\frac{1}{n}\\sum_{k=0}^{n-1} \\log |f'(x_k)|.\n",
    "$$\n",
    "\n",
    "**Feladat:** Írjunk programot a logisztikus rendszer maximális Lyapunov-exponensének kiszámítására. Ábrázoljuk a Lyapunov-exponenst mint az $x_0$ paraméter függvényét."
   ]
  },
  {
   "cell_type": "markdown",
   "metadata": {},
   "source": [
    "# További kapcsolódó feladatok\n",
    "\n",
    "Keressünk érdekes kaotikus diszkrét idejű dinamikai rendszereket és futtassuk le a fenti numerikus szimulációkat (bifurkációs diagram, invariáns mérték, attraktor dimenziója, Lyapunov-exponens, stb.). "
   ]
  },
  {
   "cell_type": "markdown",
   "metadata": {},
   "source": [
    "# Takens tétele és alkalmazásai\n",
    "\n",
    "A gyakorlati alkalmazások szempontjából rendkívül fontos kérdés az, hogy mérési eredményekből megismerhető-e az attraktor. Ezt a kérdést járta körül Floris Takens a turbulens áramlással kapcsolatos kutatásai során. Eredményei rámutatnak arra, tipikusan igaz, hogy az attraktor topológia jellemzői skalár-értékű mérések segítségével meghatározhatók.\n",
    "\n",
    "**1. Feladat:**\n",
    "A http://www.scholarpedia.org/article/Attractor_reconstruction cikk elolvasása, az olvasottak összefoglalása kiselőadás formájában.\n",
    "\n",
    "**2. Feladat:**\n",
    "Sugihara japán kutató Takens tételére alapozva dolgozta ki a konvergens keresztleképezések módszerét, mellyel valódi ok-okozati kapcsolatok mutathatók ki idősorok között. A feladat Sugihara eredeti https://deepeco.ucsd.edu/wp-content/uploads/2019/10/causalityCCM.pdf cikkének elolvasása és tartalmi összefoglalása kiselőadás formájában.\n",
    "\n",
    "**3. Feladat:**\n",
    "A https://skccm.readthedocs.io/en/latest/quick-example.html Python csomag Takens-tétellek, késleltetett beágyazással és konvergens keresztleképezésekkel kapcsolatos algoritmusok implementációit tartalmazza. A feladat a \"Quick Example\" fejezetben szereplő kódok lefuttatása és ismertetése. Ez a 2. Feladatban szereplő cikkben bemutattott csatolt logisztikus rendszer szimulációja."
   ]
  },
  {
   "cell_type": "markdown",
   "metadata": {},
   "source": [
    "# További olvasnivalók\n",
    "\n",
    "1. https://cac.cornell.edu/myers/teaching/ComputationalMethods/ComputerExercises/Bifurcation/Bifurcation.html\n",
    "\n",
    "2. https://en.wikipedia.org/wiki/Attractor\n",
    "\n",
    "3. https://en.wikipedia.org/wiki/Strange_nonchaotic_attractor (nem kaotikus különös attraktor, ilyen is van!)\n",
    "\n",
    "4. https://en.wikipedia.org/wiki/Chaos_theory\n",
    "\n",
    "5. https://en.wikipedia.org/wiki/Lyapunov_exponent\n",
    "\n",
    "6. https://en.wikipedia.org/wiki/Hurst_exponent\n",
    "\n",
    "7. https://www.stat.cmu.edu/~cshalizi/754/2006/notes/solutions-2.pdf\n",
    "\n",
    "8. https://en.wikipedia.org/wiki/Minkowski%E2%80%93Bouligand_dimension"
   ]
  },
  {
   "cell_type": "code",
   "execution_count": null,
   "metadata": {},
   "outputs": [],
   "source": []
  }
 ],
 "metadata": {
  "author": "",
  "kernelspec": {
   "display_name": "VPU",
   "language": "python",
   "name": "vpu"
  },
  "language_info": {
   "codemirror_mode": {
    "name": "ipython",
    "version": 3
   },
   "file_extension": ".py",
   "mimetype": "text/x-python",
   "name": "python",
   "nbconvert_exporter": "python",
   "pygments_lexer": "ipython3",
   "version": "3.7.3"
  },
  "latex_envs": {
   "LaTeX_envs_menu_present": true,
   "autoclose": false,
   "autocomplete": true,
   "bibliofile": "biblio.bib",
   "cite_by": "apalike",
   "current_citInitial": 1,
   "eqLabelWithNumbers": true,
   "eqNumInitial": 1,
   "hotkeys": {
    "equation": "Ctrl-E",
    "itemize": "Ctrl-I"
   },
   "labels_anchors": false,
   "latex_user_defs": false,
   "report_style_numbering": false,
   "user_envs_cfg": false
  },
  "nbTranslate": {
   "displayLangs": [
    "*"
   ],
   "hotkey": "alt-t",
   "langInMainMenu": true,
   "sourceLang": "en",
   "targetLang": "fr",
   "useGoogleTranslate": true
  },
  "toc": {
   "base_numbering": 1,
   "nav_menu": {},
   "number_sections": true,
   "sideBar": true,
   "skip_h1_title": false,
   "title_cell": "Table of Contents",
   "title_sidebar": "Contents",
   "toc_cell": false,
   "toc_position": {},
   "toc_section_display": true,
   "toc_window_display": false
  },
  "varInspector": {
   "cols": {
    "lenName": 16,
    "lenType": 16,
    "lenVar": 40
   },
   "kernels_config": {
    "python": {
     "delete_cmd_postfix": "",
     "delete_cmd_prefix": "del ",
     "library": "var_list.py",
     "varRefreshCmd": "print(var_dic_list())"
    },
    "r": {
     "delete_cmd_postfix": ") ",
     "delete_cmd_prefix": "rm(",
     "library": "var_list.r",
     "varRefreshCmd": "cat(var_dic_list()) "
    }
   },
   "types_to_exclude": [
    "module",
    "function",
    "builtin_function_or_method",
    "instance",
    "_Feature"
   ],
   "window_display": false
  }
 },
 "nbformat": 4,
 "nbformat_minor": 2
}
