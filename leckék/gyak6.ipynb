{
 "cells": [
  {
   "cell_type": "markdown",
   "metadata": {},
   "source": [
    "# Diszkrét dinamikai rendszerek és kaotikus attraktorok\n",
    "\n",
    "Tegyük fel, hogy adott egy $f:\\mathbb{R}^n\\to\\mathbb{R}^n$ leképezés. Tetszőleges $x_0\\in\\mathbb{R}^n$ kezdőértéket választva tekinthetjük $f$ iteráltjainak egy $x_0, f(x_0), f(f(x_0)),\\ldots$ sorozatát, melynek tagjai általánosságban az\n",
    "$$\n",
    "x_{n+1} = f(x_n)\n",
    "$$\n",
    "rekurzióval adhatók meg.\n",
    "\n",
    "Amennyiben az $n\\in\\mathbb{N}$ paramétert időként interpretáljuk, szokás a fenti rekurziót (autonóm) *diszkrét dinamikai rendszernek* nevezni. Az $x_0, x_1, x_2,\\ldots$ sorozatot pedig a dinamikai $x_0\\in\\mathbb{R}^n$ kezdőértékhez tartozó *trajektóriájának* hívjuk.\n",
    "\n",
    "Vezessük be a $\\Phi:\\mathbb{N}\\times\\mathbb{R}^n\\to\\mathbb{R}^n$ *fázisfolyam leképezést* $\\Phi (n, x_0):=x_n$. A fázisfolyam leképezés lényegében az \"időléptetést\" írja le, és könnyen meggondolható, hogy teljesíti a\n",
    "$$\n",
    "\\Phi (n, \\Phi(m, x_0)) = \\Phi (n+m, x_0)\n",
    "$$\n",
    "félcsoport tulajdonságot.\n",
    "\n",
    "A különböző pontokból kiinduló trajektóriák hosszútávú viselkedését figyelve előfordulhat, hogy azok a kezdőérték választásától nagy mértékben függetlenül a fázistér egy $A\\subset\\mathbb{R}^n$ részhalmazába futnak be, az $A$-ból induló trajektóriák pedig egyáltalán nem hagyják el az $A$ halmazt. Az ilyen minimális invariáns határhalmazt *attraktor*-nak nevezzük. A szabatos definíció a következő:\n",
    "\\begin{definition}\n",
    "\n",
    "\\end{definition}"
   ]
  },
  {
   "cell_type": "markdown",
   "metadata": {},
   "source": [
    "## A Logisztikus leképezés\n",
    "\n",
    "A $\\mu\\in (0,1)$ paraméter tetszőleges rögzített értéke mellett az $f(x)=4\\mu x(1-x)$ hozzárendelés egy $f:(0,1)\\to (0,1)$ függvényt ad meg, melyet *logisztikus leképezésnek nevezünk*. Az alábbiakban tetszőleges $x_0\\in (0,1)$ pontból kiindulva az $f$ függvény iteráltjainak, más szóval az \n",
    "$$x_{n+1} = f(x_n)$$ \n",
    "rekurzióval adott *diszkrét dinamikai rendszer* viselkedését tanulmányozzuk. \n",
    "\n",
    "A $\\mu$ paramétert változtatva érdekes jelenséget tapasztalhatunk."
   ]
  },
  {
   "cell_type": "code",
   "execution_count": 48,
   "metadata": {
    "ExecuteTime": {
     "end_time": "2023-01-19T21:47:15.846899Z",
     "start_time": "2023-01-19T21:47:15.826923Z"
    }
   },
   "outputs": [],
   "source": [
    "import numpy as np\n",
    "import matplotlib.pyplot as plt\n",
    "\n",
    "f = lambda x, mu: 4.0*mu*x*(1-x)  # a logisztikus leképezés\n",
    "\n",
    "def iterate(mu, x0):\n",
    "    \"\"\"\n",
    "    Ezzel a generátorral egy x0 pontból kiindulva, \n",
    "    tetszőleges mu értéket rögzítve tudunk iteráltakat számolni.\n",
    "    \"\"\"\n",
    "    \n",
    "    x = x0*np.ones_like(mu)\n",
    "    \n",
    "    while True:\n",
    "        yield x        \n",
    "        x = f(x, mu)\n",
    "                \n",
    "def trajectory(mu, x0, N):\n",
    "    \"\"\"\n",
    "    N hosszú trajektóriákat ad vissza.\n",
    "    \"\"\"\n",
    "    \n",
    "    x = iterate(mu, x0)\n",
    "    \n",
    "    return np.array([next(x) for k in range(N)])\n",
    "\n",
    "def BifurcationDiagram(x0, nTransient, nCycle, muArray, plot=True):\n",
    "    \"\"\"\n",
    "    Bifurkációs diagramm rajzolása:\n",
    "    muArray minden eleméhez számol egy trajektóriát úgy, hogy először\n",
    "    nTransient lépést tesz, amikor is elér egy ún. attraktort, majd\n",
    "    nCycle pontban kirajzolja az attraktort.\n",
    "    \"\"\"\n",
    "    \n",
    "    x = trajectory(muArray, x0, nTransient+nCycle)  # teljes trajektória\n",
    "    x = x[nTransient:] # a tranzienseket elhagyjuk\n",
    "    \n",
    "    if plot:\n",
    "        _, ax = plt.subplots(1, 1, figsize=(10, 10))\n",
    "        ax.plot(muArray, x.T,'k,')\n",
    "        \n",
    "    "
   ]
  },
  {
   "cell_type": "markdown",
   "metadata": {},
   "source": [
    "### Feladat\n",
    "\n",
    "Az alábbi script a logisztikus egyenlet attraktorát rajzoltatja ki a $\\mu$ paraméter különböző értékei mellett. Futtassuk le a szimulációkat! Mit figyelhetünk meg? Magyarázzuk meg a látottakat. Segítség: a következő gyakorlat címe."
   ]
  },
  {
   "cell_type": "code",
   "execution_count": 54,
   "metadata": {
    "ExecuteTime": {
     "end_time": "2023-01-19T22:15:50.683883Z",
     "start_time": "2023-01-19T22:15:49.954502Z"
    }
   },
   "outputs": [
    {
     "data": {
      "image/png": "[encoded data removed]",
      "text/plain": [
       "<Figure size 720x720 with 1 Axes>"
      ]
     },
     "metadata": {
      "needs_background": "light"
     },
     "output_type": "display_data"
    }
   ],
   "source": [
    "x0 = 0.1\n",
    "nTransient = 500\n",
    "nCycle = 500\n",
    "\n",
    "# Teszteljük le az alábbi szcenáriókat.\n",
    "\n",
    "muArray = np.linspace(0., 1.0, 400)\n",
    "# muArray = np.linspace(0.85, 1.0, 400)\n",
    "# muArray = np.linspace(0.96, 0.97, 400)\n",
    "\n",
    "BifurcationDiagram(x0, nTransient, nCycle, muArray)"
   ]
  },
  {
   "cell_type": "markdown",
   "metadata": {},
   "source": [
    "## Fraktál dimenzió"
   ]
  },
  {
   "cell_type": "markdown",
   "metadata": {},
   "source": [
    "A tudományban sok különös halmaz jelenik meg. A statisztikai mechanikában ezek a halmazok folytonos fázisátmeneteknél jelentkeznek, ahol az önhasonló térbeli struktúrák jelentkeznek. A kaotikus dinamikai rendszerekben az vonzóhalmaz (a hosszú időn át elfoglalt állapotok halmaza, miután eltűntek a transziens jelenségek) gyakran nagyon furcsa. Ezek a halmazok gyakran áttetszők és szabálytalanok, minden hosszúsági skálán lyukakkal.\n",
    "\n",
    "Gyakran próbáljuk ezeket a halmazokat fraktál dimenzióval jellemezni. Azonban két nagyon eltérő halmaz dimenziója ugyanaz lehet: egy véletlenszerű járás útja magas dimenziókban kétdimenziós, mint egy gömb felülete. Ha a fraktál dimenziók különbözőek, akkor a halmazok különbözőek.\n",
    " \n",
    "Nincs egyetlen módja egy halmaz dimenziójának meghatározásának. Az edzés a kapacitásdimenziót (eredeti nevén a Hausdorff dimenziót) és az információdimenziót (az entrópiaval kapcsolatban) fogja kiszámítani. A különös halmaz generálásához egy rendszert használunk, amelynek van egy különös vonzóhalmaza és folytonos fázisátmenetben van: a logisztikus térképet a kaotikus periódusdobálás kezdetén.  "
   ]
  },
  {
   "cell_type": "markdown",
   "metadata": {},
   "source": [
    "## Lyapunov-exponens"
   ]
  },
  {
   "cell_type": "code",
   "execution_count": null,
   "metadata": {},
   "outputs": [],
   "source": []
  },
  {
   "cell_type": "markdown",
   "metadata": {},
   "source": [
    "## Invariáns mérték"
   ]
  },
  {
   "cell_type": "code",
   "execution_count": null,
   "metadata": {},
   "outputs": [],
   "source": []
  },
  {
   "cell_type": "markdown",
   "metadata": {},
   "source": [
    "# További olvasnivalók\n",
    "\n",
    "1. https://cac.cornell.edu/myers/teaching/ComputationalMethods/ComputerExercises/Bifurcation/Bifurcation.html\n",
    "\n",
    "2. https://en.wikipedia.org/wiki/Attractor\n",
    "\n",
    "3. https://en.wikipedia.org/wiki/Chaos_theory\n",
    "\n",
    "4. https://en.wikipedia.org/wiki/Lyapunov_exponent\n",
    "\n",
    "5. https://en.wikipedia.org/wiki/Hurst_exponent"
   ]
  },
  {
   "cell_type": "code",
   "execution_count": null,
   "metadata": {},
   "outputs": [],
   "source": []
  }
 ],
 "metadata": {
  "author": "m",
  "kernelspec": {
   "display_name": "VPU",
   "language": "python",
   "name": "vpu"
  },
  "language_info": {
   "codemirror_mode": {
    "name": "ipython",
    "version": 3
   },
   "file_extension": ".py",
   "mimetype": "text/x-python",
   "name": "python",
   "nbconvert_exporter": "python",
   "pygments_lexer": "ipython3",
   "version": "3.7.3"
  },
  "latex_envs": {
   "LaTeX_envs_menu_present": true,
   "autoclose": false,
   "autocomplete": true,
   "bibliofile": "biblio.bib",
   "cite_by": "apalike",
   "current_citInitial": 1,
   "eqLabelWithNumbers": true,
   "eqNumInitial": 1,
   "hotkeys": {
    "equation": "Ctrl-E",
    "itemize": "Ctrl-I"
   },
   "labels_anchors": false,
   "latex_user_defs": false,
   "report_style_numbering": false,
   "user_envs_cfg": false
  },
  "nbTranslate": {
   "displayLangs": [
    "*"
   ],
   "hotkey": "alt-t",
   "langInMainMenu": true,
   "sourceLang": "en",
   "targetLang": "fr",
   "useGoogleTranslate": true
  },
  "toc": {
   "base_numbering": 1,
   "nav_menu": {},
   "number_sections": true,
   "sideBar": true,
   "skip_h1_title": false,
   "title_cell": "Table of Contents",
   "title_sidebar": "Contents",
   "toc_cell": false,
   "toc_position": {},
   "toc_section_display": true,
   "toc_window_display": false
  },
  "varInspector": {
   "cols": {
    "lenName": 16,
    "lenType": 16,
    "lenVar": 40
   },
   "kernels_config": {
    "python": {
     "delete_cmd_postfix": "",
     "delete_cmd_prefix": "del ",
     "library": "var_list.py",
     "varRefreshCmd": "print(var_dic_list())"
    },
    "r": {
     "delete_cmd_postfix": ") ",
     "delete_cmd_prefix": "rm(",
     "library": "var_list.r",
     "varRefreshCmd": "cat(var_dic_list()) "
    }
   },
   "types_to_exclude": [
    "module",
    "function",
    "builtin_function_or_method",
    "instance",
    "_Feature"
   ],
   "window_display": false
  }
 },
 "nbformat": 4,
 "nbformat_minor": 2
}
